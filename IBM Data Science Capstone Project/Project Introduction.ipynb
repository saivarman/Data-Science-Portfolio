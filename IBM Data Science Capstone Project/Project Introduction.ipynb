{
 "cells": [
  {
   "cell_type": "markdown",
   "metadata": {},
   "source": [
    "# Capstone Project: Introduction"
   ]
  },
  {
   "cell_type": "markdown",
   "metadata": {},
   "source": [
    "### Background"
   ]
  },
  {
   "cell_type": "markdown",
   "metadata": {},
   "source": [
    "Of the many issues and events that have occurred since the beginning of 2020, Covid-19 has caused the greatest changes in the lives of many. The epidemic started in late 2019 in China and has since then spread throughout the globe. Covid-19 cases began to increase exponentially in the United States back in early March this year and the virus has infected millions of citizens. Major cities and places with high population traffic were hit the hardest. One of these cities was New York City (NYC). As a major center for business, education, trading, etc., NYC has one of the highest infection rate and number of cases in the US. Though travel restrictions are still in place, individuals are still traveling to the city for various reasons. The purpose of this project is to analyze the neighborhoods of NYC by the types of venues available in the area and the number of Covid-19 cases that has been diagnosed. The project aims at providing those who are thinking about traveling to NYC with information about virus hotspots and places to be in to reduce infection risk."
   ]
  },
  {
   "cell_type": "markdown",
   "metadata": {},
   "source": [
    "### Data Description"
   ]
  },
  {
   "cell_type": "markdown",
   "metadata": {},
   "source": [
    "The data that will be utilized in this project will come from various sources (See List Below):\n",
    "- Foursquare: Venue types and coordinates\n",
    "- [NYC Department of Health and Mental Hygiene](https://github.com/nychealth): Coronavirus data in NYC by zipcode located in the coronavirus-data repository.\n",
    "- [New York State Department of Health](https://www.health.ny.gov/statistics/cancer/registry/appendix/neighborhoods.htm): Neighborhood names corresponding to zip codes.\n",
    "- New York Geographical Data: Since the zip code grouping and neighborhood names available on [NYC health](https://www.health.ny.gov/statistics/cancer/registry/appendix/neighborhoods.htm) is different than that from the cocl.us provided file, a separate geographical file will be used for this project. The filename will be \"Neighborhood-Coordinate.csv\" and contains coordinates for NYC Health defined neighborhoods based on neighborhood zip code.\n",
    "\n",
    "Coronavirus, zip code, and geographical data of each NYC neighborhoods will be compiled into a single .csv file for analysis later on. NYC zip codes are converted to MODZCTA as it is the format the covid-19 data is based on. Once the total number of covid cases is determined for each neighborhood, the data will be compiled into a single file containing the following information:\n",
    "- Borough Name\n",
    "- Neighborhood Name\n",
    "- Latitude\n",
    "- Longitude\n",
    "- Zip Code (MODZCTA format)\n",
    "- Total number of Covid-19 cases since Feb 29th, 2020\n",
    "\n",
    "The code for data compilation will be included in the \"Data Preprocessing and Cleaning.ipynb\" file of the Capstone Project directory. The preprocessed dataframe will be stored as \"compiled_data.csv\" in the same directory as well."
   ]
  }
 ],
 "metadata": {
  "kernelspec": {
   "display_name": "Python",
   "language": "python",
   "name": "conda-env-python-py"
  },
  "language_info": {
   "codemirror_mode": {
    "name": "ipython",
    "version": 3
   },
   "file_extension": ".py",
   "mimetype": "text/x-python",
   "name": "python",
   "nbconvert_exporter": "python",
   "pygments_lexer": "ipython3",
   "version": "3.6.11"
  }
 },
 "nbformat": 4,
 "nbformat_minor": 4
}
