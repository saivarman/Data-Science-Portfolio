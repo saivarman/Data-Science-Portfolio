{
 "cells": [
  {
   "cell_type": "markdown",
   "metadata": {},
   "source": [
    "# Capstone Project: Final Report"
   ]
  },
  {
   "cell_type": "markdown",
   "metadata": {},
   "source": [
    "### Introduction"
   ]
  },
  {
   "cell_type": "markdown",
   "metadata": {},
   "source": [
    "Of the many issues and events that have occurred since the beginning of 2020, Covid-19 has caused the greatest changes in the lives of many. The epidemic started in late 2019 in China and has since then spread throughout the globe. Covid-19 cases began to increase exponentially in the United States back in early March this year and the virus has infected millions of citizens. Major cities and places with high population traffic were hit the hardest. One of these cities was New York City (NYC). As a major center for business, education, trading, etc., NYC has one of the highest infection rate and number of cases in the US. Though travel restrictions are still in place, individuals are still traveling to the city for various reasons. The purpose of this project is to analyze the neighborhoods of NYC by the types of venues available in the area and the number of Covid-19 cases that has been diagnosed. The project aims at providing those who are thinking about traveling to NYC with information about virus hotspots and places to be in to reduce infection risk.\n",
    "\n",
    "The results of the project can be of interest to multiple parties. Travel agencies can use the information to suggest the best places for tourists and travelers to be in to avoid high risks of covid-19 infection. Apartment rental and real estate agencies can use the results to suggest optimal locations for relocation purposes. Additionally, businesses and individuals can access the guide to better plan out their travel plans."
   ]
  },
  {
   "cell_type": "markdown",
   "metadata": {},
   "source": [
    "### Data Description"
   ]
  },
  {
   "cell_type": "markdown",
   "metadata": {},
   "source": [
    "The data that will be utilized in this project will come from various sources (See List Below):\n",
    "- Foursquare: Venue types and coordinates\n",
    "- [NYC Department of Health and Mental Hygiene](https://github.com/nychealth): Coronavirus data in NYC by zipcode located in the coronavirus-data repository.\n",
    "- [New York State Department of Health](https://www.health.ny.gov/statistics/cancer/registry/appendix/neighborhoods.htm): Neighborhood names corresponding to zip codes.\n",
    "- New York Geographical Data: Since the zip code grouping and neighborhood names available on [NYC health](https://www.health.ny.gov/statistics/cancer/registry/appendix/neighborhoods.htm) is different than that from the cocl.us provided file, a separate geographical file will be used for this project. The filename will be \"Neighborhood-Coordinate.csv\" and contains coordinates for NYC Health defined neighborhoods based on neighborhood zip code.\n",
    "\n",
    "Coronavirus, zip code, and geographical data of each NYC neighborhoods will be compiled into a single .csv file for analysis later on. NYC zip codes are converted to MODZCTA as it is the format the covid-19 data is based on. Once the total number of covid cases is determined for each neighborhood, the data will be compiled into a single file containing the following information:\n",
    "- Borough Name\n",
    "- Neighborhood Name\n",
    "- Latitude\n",
    "- Longitude\n",
    "- Zip Code (MODZCTA format)\n",
    "- Total number of Covid-19 cases since Feb 29th, 2020\n",
    "\n",
    "The code for data compilation will be included in the \"Data Preprocessing and Cleaning.ipynb\" file of the Capstone Project directory. The preprocessed dataframe will be stored as \"compiled_data.csv\" in the same directory as well."
   ]
  },
  {
   "cell_type": "markdown",
   "metadata": {},
   "source": [
    "### Methodology"
   ]
  },
  {
   "cell_type": "markdown",
   "metadata": {},
   "source": [
    "***Data preprocessing and preparation***\n",
    "\n",
    "Prior to exploratory data analysis and applying machine learning, the data was first compiled into a single dataset from the various data sources. As mentioned in the data description section, the zip codes obtained from the NYC Health website was first converted into MODZCTA format (This format of zip code is often used for census data). The MODZCTA dataframe was merged with the convid-19 dataframe to determine the number of confirmed virus cases within each neighborhood. The combined dataframe was then merged with the geographical information (i.e. latitude and longitude) dataframe. Finally, the compiled dataframe was cleaned, formatted, and exported as \"compiled_data.csv\"."
   ]
  },
  {
   "cell_type": "markdown",
   "metadata": {},
   "source": [
    "***Exploratory Analysis***\n",
    "\n",
    "The compiled data was first loaded into a separate notebook from the .csv file. The first exploratory data analysis conducted was the mapping of the neighborhood using the folium library. The neighborhoods were plotted on a map of NYC as colored markers where the neighborhoods from the same borough was indicated by the same color marker. Borough and neighborhood name was provided for each marker and can be shown when the assigned marker is selected. The next analysis conducted was the comparison of the number of covid-19 cases between neighborhoods. Neighborhoods were sorted in descending order in terms of viral cases and compared in bar chart format. Finally, the total number of covid-19 cases was calculated for each borough and the percentage of total cases each neighborhood represented was then visualized on a pie chart."
   ]
  },
  {
   "cell_type": "markdown",
   "metadata": {},
   "source": [
    "***Machine Learning: K-Means Clustering***\n",
    "\n",
    "The mahcine learning method applied in this project was clustering. Since the purpose of the project was to group neighborhoods that are similar in terms of covid-19 cases and popular venue types, the K-means clustering method was chosen as the optimal method for machine learning. The algorithm will sort the neighborhoods into clusters based on the features provided. More emphasis was placed on the number of viral cases as this is the main feature that will be used for determine the risk of infection for each neighborhoods.\n",
    "\n",
    "To determined the ideal number of clusters for the analysis, the elbow method was used. This method runs k-means clustering on the dataset for a set range of k. The sum of square distances of each point from their assigned centroid will then be calculated and averaged. The results of the calculations from each k value will then be plotted. The inflection point of the plotted curve will then be used as the ideal number of clusters. "
   ]
  },
  {
   "cell_type": "markdown",
   "metadata": {},
   "source": [
    "### Results"
   ]
  },
  {
   "cell_type": "markdown",
   "metadata": {},
   "source": [
    "***Exploratory Data Analysis***"
   ]
  },
  {
   "cell_type": "markdown",
   "metadata": {},
   "source": [
    "Neighborhood Map: NYC neighborhoods were mapped and marked with colored markers. Neighborhoods in the same borough were shown in same colored marker.\n",
    "\n",
    "Color guide:\n",
    "- Red: Bronx\n",
    "- Blue: Brooklyn\n",
    "- Yellow: Manhattan\n",
    "- Green: Queens\n",
    "- Purple: Staten Island\n",
    "\n",
    "![NYC Neighborhood Map](nyc_map.JPG)"
   ]
  },
  {
   "cell_type": "markdown",
   "metadata": {},
   "source": [
    "Covid-19 Bar Chart: Neighborhoods are shown in descending order based on number of covid-19 cases. With the West Queen area having the highest number of cases and Lower Manhattan area having the lowest.\n",
    "\n",
    "![Covid-19 Cases by Neighborhood](covid_neighborhood_bar.JPG)"
   ]
  },
  {
   "cell_type": "markdown",
   "metadata": {},
   "source": [
    "Percentage of Total Covid-19 Cases by Neighborhood: The percentage of total virus cases each borough represents was calculated and visualized on the pie chart. Queens borough has the highest percentage of covid-19 cases while the Manhattan area represents the least.\n",
    "\n",
    "![NYC Covid-19 Pie Chart](nyc_borough_pie.JPG)"
   ]
  },
  {
   "cell_type": "markdown",
   "metadata": {},
   "source": [
    "***Machine Learning: K-Means Clustering***"
   ]
  },
  {
   "cell_type": "markdown",
   "metadata": {},
   "source": [
    "Elbow Plot for Determining the Optimal Number of Clusters: As mentioned in the methodology section, a range of k values (1 - 15) was used for calculation and the results are shown below. Since the infleciton point was at k = 4, this k value was used for K-means clustering later on.\n",
    "\n",
    "![Elbow Method](k_elbow.JPG)"
   ]
  },
  {
   "cell_type": "markdown",
   "metadata": {},
   "source": [
    "K-Means Clustering Map: After the cluster labels were generated and assigned to each of the neighborhoods, the areas were once again plotted on a NYC map and shown below. Neighborhoods in the same clusters were indicated by the same colored markers.\n",
    "\n",
    "Color Guide:\n",
    "- Purple: Low Covid-19 Risk/Cases\n",
    "- Yellowgreen: Medium Covid-19 Risk/Cases\n",
    "- Red: High Covid-19 Risk/Cases\n",
    "- Cyan: Very High Covid-19 Risk/Cases\n",
    "\n",
    "![Cluster NYC Map](nyc_map_cluster.JPG)"
   ]
  },
  {
   "cell_type": "markdown",
   "metadata": {},
   "source": [
    "NYC Low-Risk Cluster Information: All boroughs have neighborhoods clustered into the low risk group. However, boroughs that had higher covid-19 case percentages were less represented in this cluster.\n",
    "\n",
    "![Low Risk](nyclowrisk.JPG)"
   ]
  },
  {
   "cell_type": "markdown",
   "metadata": {},
   "source": [
    "NYC Medium-Risk Cluster Information\n",
    "\n",
    "![Medium Risk](nycmedrisk1.JPG)\n",
    "![Medium Risk 1](nycmedrisk2.JPG)"
   ]
  },
  {
   "cell_type": "markdown",
   "metadata": {},
   "source": [
    "NYC High-Risk Cluster Information: The cluster results were consistent with the initial exploratory analysis as the neighborhoods in boroughs with higher covid-19 case percentages were much more prevalent.\n",
    "\n",
    "![High Risk](nychighrisk.JPG)"
   ]
  },
  {
   "cell_type": "markdown",
   "metadata": {},
   "source": [
    "NYC Very High-Risk Cluster Information: Queens and Brooklyn are boroughs that represented more than half of all covid-19 cases in NYC, thus it is logical that the neighborhoods with the highest number of cases would be located in one of these boroughs.\n",
    "\n",
    "![vHigh Risk](nycvhighrisk.JPG)"
   ]
  },
  {
   "cell_type": "markdown",
   "metadata": {},
   "source": [
    "### Discussion"
   ]
  },
  {
   "cell_type": "markdown",
   "metadata": {},
   "source": [
    "Clustering of the neighborhoods corresponded to the exploratory analysis. Nieghborhoods in Brooklyn and Queens, boroughs with the highest percentages of covid-19 cases, were mostly clustered into the very high and high risk groups. While neighborhoods in Manhattan and Staten Island, boroughs with the smallest percentages of cases, were more prevalent in the medium to low risk groups. From the map containing the clusters, it can be inferred that the risk of infection for each neighborhood mostly corresponds to that of the borough that they are in, with few outliers. Additionally, no apparent trends between the types of venue each neighborhood contains and covid-19 cases were noted."
   ]
  },
  {
   "cell_type": "markdown",
   "metadata": {},
   "source": [
    "### Conclusion"
   ]
  },
  {
   "cell_type": "markdown",
   "metadata": {},
   "source": [
    "The project was successful in creating a guide for individuals who are thinking about traveling to NYC that depicts the risk of covid-19 infection and the types of venus available in each area. All in all, there are many neighborhoods that are relatively safe and contain various venues for travelers and people relocating to enjoy as long as proper safety measures are followed."
   ]
  }
 ],
 "metadata": {
  "kernelspec": {
   "display_name": "Python",
   "language": "python",
   "name": "conda-env-python-py"
  },
  "language_info": {
   "codemirror_mode": {
    "name": "ipython",
    "version": 3
   },
   "file_extension": ".py",
   "mimetype": "text/x-python",
   "name": "python",
   "nbconvert_exporter": "python",
   "pygments_lexer": "ipython3",
   "version": "3.6.11"
  }
 },
 "nbformat": 4,
 "nbformat_minor": 4
}
